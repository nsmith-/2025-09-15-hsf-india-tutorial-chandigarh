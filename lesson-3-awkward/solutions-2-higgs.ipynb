{
 "cells": [
  {
   "cell_type": "markdown",
   "id": "c83f255c-fa85-4641-8c42-d5f2a54cf032",
   "metadata": {
    "editable": true,
    "slideshow": {
     "slide_type": ""
    },
    "tags": []
   },
   "source": [
    "# Lesson 3 solutions 2: Higgs analysis with combinatorics"
   ]
  },
  {
   "cell_type": "code",
   "execution_count": null,
   "id": "f22927b9-0b79-432b-a733-4ad4af5afe23",
   "metadata": {
    "editable": true,
    "slideshow": {
     "slide_type": ""
    },
    "tags": []
   },
   "outputs": [],
   "source": [
    "import matplotlib.pyplot as plt\n",
    "import numpy as np\n",
    "\n",
    "import awkward as ak\n",
    "import vector\n",
    "from hist import Hist\n",
    "vector.register_awkward()"
   ]
  },
  {
   "cell_type": "code",
   "execution_count": null,
   "id": "7dd9c0d9-ad5a-4601-9f15-f1f5768dce53",
   "metadata": {
    "editable": true,
    "slideshow": {
     "slide_type": ""
    },
    "tags": []
   },
   "outputs": [],
   "source": [
    "events = ak.from_parquet(\"../data/SMHiggsToZZTo4L.parquet\")"
   ]
  },
  {
   "cell_type": "code",
   "execution_count": null,
   "id": "34488f9d-4bf8-4a0b-afb2-16bcbf68920a",
   "metadata": {
    "editable": true,
    "slideshow": {
     "slide_type": ""
    },
    "tags": []
   },
   "outputs": [],
   "source": [
    "eplus = events.electron[events.electron.charge > 0]\n",
    "eminus = events.electron[events.electron.charge < 0]"
   ]
  },
  {
   "cell_type": "code",
   "execution_count": null,
   "id": "ac2ebb26-2318-4958-9991-8c90e36af508",
   "metadata": {
    "editable": true,
    "slideshow": {
     "slide_type": ""
    },
    "tags": []
   },
   "outputs": [],
   "source": [
    "eplusplus = ak.combinations(eplus, 2)\n",
    "eminusminus = ak.combinations(eminus, 2)\n",
    "epairs_of_pairs = ak.cartesian([eplusplus, eminusminus])"
   ]
  },
  {
   "cell_type": "code",
   "execution_count": null,
   "id": "7ba7a17d-d774-4235-a2aa-bd93838e8a0b",
   "metadata": {
    "editable": true,
    "slideshow": {
     "slide_type": ""
    },
    "tags": []
   },
   "outputs": [],
   "source": [
    "interpretation1_z1 = epairs_of_pairs[\"0\", \"0\"] + epairs_of_pairs[\"1\", \"0\"]\n",
    "interpretation1_z2 = epairs_of_pairs[\"0\", \"1\"] + epairs_of_pairs[\"1\", \"1\"]\n",
    "\n",
    "interpretation2_z1 = epairs_of_pairs[\"0\", \"0\"] + epairs_of_pairs[\"1\", \"1\"]\n",
    "interpretation2_z2 = epairs_of_pairs[\"0\", \"1\"] + epairs_of_pairs[\"1\", \"0\"]"
   ]
  },
  {
   "cell_type": "markdown",
   "id": "c3d62931-a804-4f5b-b6bb-042d72d4c70e",
   "metadata": {
    "editable": true,
    "slideshow": {
     "slide_type": ""
    },
    "tags": []
   },
   "source": [
    "<br><br><br>"
   ]
  },
  {
   "cell_type": "markdown",
   "id": "47510ae4-16b9-4446-b643-0b980c18f1ac",
   "metadata": {
    "editable": true,
    "slideshow": {
     "slide_type": ""
    },
    "tags": []
   },
   "source": [
    "## Solution to exercise 1"
   ]
  },
  {
   "cell_type": "markdown",
   "id": "9ee5b0bc-d134-42a5-92f9-a7f7c92be10e",
   "metadata": {
    "editable": true,
    "slideshow": {
     "slide_type": ""
    },
    "tags": []
   },
   "source": [
    "Separately for `interpretation1_*` and for `interpretation2_*`, use [ak.where](https://awkward-array.org/doc/main/reference/generated/ak.where.html) to distinguish the biggest Z mass from the smallest Z mass."
   ]
  },
  {
   "cell_type": "code",
   "execution_count": null,
   "id": "c9c10e28-6f28-40dc-ad24-01b48917d16c",
   "metadata": {
    "editable": true,
    "slideshow": {
     "slide_type": ""
    },
    "tags": []
   },
   "outputs": [],
   "source": [
    "interpretation1_zsmall = ak.where(interpretation1_z1.mass < interpretation1_z2.mass, interpretation1_z1, interpretation1_z2)\n",
    "interpretation1_zbig   = ak.where(interpretation1_z1.mass > interpretation1_z2.mass, interpretation1_z1, interpretation1_z2)\n",
    "\n",
    "interpretation2_zsmall = ak.where(interpretation2_z1.mass < interpretation2_z2.mass, interpretation2_z1, interpretation2_z2)\n",
    "interpretation2_zbig   = ak.where(interpretation2_z1.mass > interpretation2_z2.mass, interpretation2_z1, interpretation2_z2)"
   ]
  },
  {
   "cell_type": "markdown",
   "id": "549c56e5-6fcf-453b-a0e9-dac20cab8885",
   "metadata": {
    "editable": true,
    "slideshow": {
     "slide_type": ""
    },
    "tags": []
   },
   "source": [
    "<br>\n",
    "\n",
    "The masses of the lowest and highest e⁺e⁻ pair mass in interpretation 1 are:"
   ]
  },
  {
   "cell_type": "code",
   "execution_count": null,
   "id": "e83406c7-a805-41a5-84be-750b3fedb042",
   "metadata": {
    "editable": true,
    "slideshow": {
     "slide_type": ""
    },
    "tags": []
   },
   "outputs": [],
   "source": [
    "Hist.new.Regular(60, 0, 120, name=\"zmass_small\").Regular(60, 0, 120, name=\"zmass_big\").Double().fill(\n",
    "    zmass_small=ak.flatten(interpretation1_zsmall.mass),\n",
    "    zmass_big=ak.flatten(interpretation1_zbig.mass),\n",
    ").plot2d_full();"
   ]
  },
  {
   "cell_type": "code",
   "execution_count": null,
   "id": "7f538f35-0f05-4746-aa85-4155dedcfce1",
   "metadata": {
    "editable": true,
    "slideshow": {
     "slide_type": ""
    },
    "tags": []
   },
   "outputs": [],
   "source": [
    "Hist.new.Regular(60, 0, 120, name=\"zmass_small\").Regular(60, 0, 120, name=\"zmass_big\").Double().fill(\n",
    "    zmass_small=ak.flatten(interpretation2_zsmall.mass),\n",
    "    zmass_big=ak.flatten(interpretation2_zbig.mass),\n",
    ").plot2d_full();"
   ]
  },
  {
   "cell_type": "markdown",
   "id": "28e3e22e-7448-49a4-95cf-3a7548f7ce62",
   "metadata": {
    "editable": true,
    "slideshow": {
     "slide_type": ""
    },
    "tags": []
   },
   "source": [
    "## Solution to exercise 2"
   ]
  },
  {
   "cell_type": "markdown",
   "id": "fa475aed-eb43-44ad-a9bb-5530f5a296f6",
   "metadata": {
    "editable": true,
    "slideshow": {
     "slide_type": ""
    },
    "tags": []
   },
   "source": [
    "If one interpretation has a highest e⁺e⁻ pair mass close to the on-shell Z mass and the other doesn't, then it is the most likely interpretation.\n",
    "\n",
    "Apply the `(12 < zmass_small) & (zmass_small < 120) & (40 < zmass_big) & (zmass_big < 120)` quality cuts and plot the Higgs mass, separately for each interpretation."
   ]
  },
  {
   "cell_type": "code",
   "execution_count": null,
   "id": "368870c3-782b-47b3-9eb6-261f3499009d",
   "metadata": {
    "editable": true,
    "slideshow": {
     "slide_type": ""
    },
    "tags": []
   },
   "outputs": [],
   "source": [
    "interpretation1_quality = (\n",
    "    (12 < interpretation1_zsmall.mass) & (interpretation1_zsmall.mass < 120) &\n",
    "    (40 < interpretation1_zbig.mass) & (interpretation1_zbig.mass < 120)\n",
    ")\n",
    "interpretation2_quality = (\n",
    "    (12 < interpretation2_zsmall.mass) & (interpretation2_zsmall.mass < 120) &\n",
    "    (40 < interpretation2_zbig.mass) & (interpretation2_zbig.mass < 120)\n",
    ")"
   ]
  },
  {
   "cell_type": "code",
   "execution_count": null,
   "id": "e10beca8-899f-4c3a-9243-a30c46567e83",
   "metadata": {
    "editable": true,
    "slideshow": {
     "slide_type": ""
    },
    "tags": []
   },
   "outputs": [],
   "source": [
    "Hist.new.Regular(100, 0, 200, name=\"Higgs mass\").Double().fill(\n",
    "    ak.flatten((interpretation1_zsmall + interpretation1_zbig).mass[interpretation1_quality])\n",
    ").plot();"
   ]
  },
  {
   "cell_type": "code",
   "execution_count": null,
   "id": "7af7ad0d-31b1-4737-8fed-40e01d2c111f",
   "metadata": {
    "editable": true,
    "slideshow": {
     "slide_type": ""
    },
    "tags": []
   },
   "outputs": [],
   "source": [
    "Hist.new.Regular(100, 0, 200, name=\"Higgs mass\").Double().fill(\n",
    "    ak.flatten((interpretation2_zsmall + interpretation2_zbig).mass[interpretation2_quality])\n",
    ").plot();"
   ]
  },
  {
   "cell_type": "markdown",
   "id": "be8e24c3-6274-4587-8802-f438620eb388",
   "metadata": {
    "editable": true,
    "slideshow": {
     "slide_type": ""
    },
    "tags": []
   },
   "source": [
    "## Solution to exercise 3"
   ]
  },
  {
   "cell_type": "markdown",
   "id": "9e3cf5be-bc1a-4c28-8274-f844c65c744b",
   "metadata": {
    "editable": true,
    "slideshow": {
     "slide_type": ""
    },
    "tags": []
   },
   "source": [
    "Just as we used [ak.where](https://awkward-array.org/doc/main/reference/generated/ak.where.html) to select between pair masses to find the lowest and highest per interpretation, use it to select between interpretations on a candidate-by-candidate basis."
   ]
  },
  {
   "cell_type": "code",
   "execution_count": null,
   "id": "d4145b23-94e7-464c-9fff-74bac61d0d04",
   "metadata": {
    "editable": true,
    "slideshow": {
     "slide_type": ""
    },
    "tags": []
   },
   "outputs": [],
   "source": [
    "from particle import Particle\n",
    "from hepunits import GeV\n",
    "\n",
    "onshell_mass = Particle.from_name(\"Z0\").mass / GeV"
   ]
  },
  {
   "cell_type": "code",
   "execution_count": null,
   "id": "3638e5b6-dcc5-4ad1-aa79-891165b7b87b",
   "metadata": {
    "editable": true,
    "slideshow": {
     "slide_type": ""
    },
    "tags": []
   },
   "outputs": [],
   "source": [
    "interpretation1_is_best = abs(interpretation1_zbig.mass - onshell_mass) < abs(interpretation2_zbig.mass - onshell_mass)"
   ]
  },
  {
   "cell_type": "code",
   "execution_count": null,
   "id": "a564311c-7fad-4f21-96d7-005bf581d378",
   "metadata": {
    "editable": true,
    "slideshow": {
     "slide_type": ""
    },
    "tags": []
   },
   "outputs": [],
   "source": [
    "best_interpretation_zbig = ak.where(interpretation1_is_best, interpretation1_zbig, interpretation2_zbig)\n",
    "best_interpretation_zsmall = ak.where(interpretation1_is_best, interpretation1_zsmall, interpretation2_zsmall)"
   ]
  },
  {
   "cell_type": "markdown",
   "id": "73c8c362-025a-4657-b658-49715cb59a4d",
   "metadata": {
    "editable": true,
    "slideshow": {
     "slide_type": ""
    },
    "tags": []
   },
   "source": [
    "We are left with only one plot of the two Z bosons, in the best interpretation per candidate."
   ]
  },
  {
   "cell_type": "code",
   "execution_count": null,
   "id": "667ff5bc-90f7-4835-a0b9-c99a63288bd0",
   "metadata": {
    "editable": true,
    "slideshow": {
     "slide_type": ""
    },
    "tags": []
   },
   "outputs": [],
   "source": [
    "Hist.new.Regular(60, 0, 120, name=\"zmass_small\").Regular(60, 0, 120, name=\"zmass_big\").Double().fill(\n",
    "    zmass_small=ak.flatten(best_interpretation_zsmall.mass),\n",
    "    zmass_big=ak.flatten(best_interpretation_zbig.mass),\n",
    ").plot2d_full();"
   ]
  },
  {
   "cell_type": "markdown",
   "id": "a5153c15-95c4-4f6e-9328-4e58b8c8d680",
   "metadata": {},
   "source": [
    "## Solution to exercise 4"
   ]
  },
  {
   "cell_type": "markdown",
   "id": "5d907ffa-d6c0-46da-a345-e17b709d5c68",
   "metadata": {},
   "source": [
    "Even though we have selected the best Z-to-electron-pair matching for each group of 4 electrons, we still have multiple (or zero) groups of 4 electrons per event."
   ]
  },
  {
   "cell_type": "code",
   "execution_count": null,
   "id": "0580c069-0372-41bf-875f-922958f6973f",
   "metadata": {},
   "outputs": [],
   "source": [
    "best_interpretation_zbig"
   ]
  },
  {
   "cell_type": "markdown",
   "id": "09fb6c18-9f4c-404c-a9bd-2a9e8851d614",
   "metadata": {},
   "source": [
    "Use the same criteria, namely that the Higgs candidate in which the highest-mass Z boson is nearly on shell, to find the best Higgs candidate per event. The [ak.min](https://awkward-array.org/doc/main/reference/generated/ak.min.html) function with `axis=-1` replaces lists with their minimum value and empty lists with `None`:"
   ]
  },
  {
   "cell_type": "markdown",
   "id": "49659931-4e12-41e4-9353-167ec51fa662",
   "metadata": {},
   "source": [
    "Use this technique to find the Higgs candidate in each event whose highest-mass Z boson has the closest to an on shell mass."
   ]
  },
  {
   "cell_type": "code",
   "execution_count": null,
   "id": "4a52b8a4-3e19-46ea-83cb-4211e6f92e15",
   "metadata": {},
   "outputs": [],
   "source": [
    "best_higgs_candidate_index = ak.argmin(abs(best_interpretation_zbig.mass - onshell_mass), axis=-1, keepdims=True)\n",
    "best_higgs_candidate_index"
   ]
  },
  {
   "cell_type": "code",
   "execution_count": null,
   "id": "21ec03c2-c26a-4209-aa24-2155303a02f0",
   "metadata": {},
   "outputs": [],
   "source": [
    "best_higgs_zbig = best_interpretation_zbig[best_higgs_candidate_index][:, 0]\n",
    "best_higgs_zsmall = best_interpretation_zsmall[best_higgs_candidate_index][:, 0]\n",
    "\n",
    "best_higgs_zbig"
   ]
  },
  {
   "cell_type": "markdown",
   "id": "788e150f-3334-40b7-924b-a9f965d808d2",
   "metadata": {
    "editable": true,
    "slideshow": {
     "slide_type": ""
    },
    "tags": []
   },
   "source": [
    "We are left with only one pair of Z bosons per event. ([ak.flatten](https://awkward-array.org/doc/main/reference/generated/ak.flatten.html) with `axis=0` removes the `None` values.)"
   ]
  },
  {
   "cell_type": "code",
   "execution_count": null,
   "id": "148b43d7-5337-496c-8357-29daa17671f2",
   "metadata": {
    "editable": true,
    "slideshow": {
     "slide_type": ""
    },
    "tags": []
   },
   "outputs": [],
   "source": [
    "Hist.new.Regular(60, 0, 120, name=\"zmass_small\").Regular(60, 0, 120, name=\"zmass_big\").Double().fill(\n",
    "    zmass_small=ak.flatten(best_higgs_zsmall.mass, axis=0),\n",
    "    zmass_big=ak.flatten(best_higgs_zbig.mass, axis=0),\n",
    ").plot2d_full();"
   ]
  },
  {
   "cell_type": "markdown",
   "id": "84a5fc4c-d71b-4420-865e-218ac4e2ddd6",
   "metadata": {
    "editable": true,
    "slideshow": {
     "slide_type": ""
    },
    "tags": []
   },
   "source": [
    "## Solution to exercise 5"
   ]
  },
  {
   "cell_type": "markdown",
   "id": "c90815a7-cce9-4938-8329-073cd44e6709",
   "metadata": {
    "editable": true,
    "slideshow": {
     "slide_type": ""
    },
    "tags": []
   },
   "source": [
    "Now apply the quality cut to the best interpretation to get a final Higgs mass plot. Ignore the `None` values; they pass through this cut."
   ]
  },
  {
   "cell_type": "code",
   "execution_count": null,
   "id": "10f6f35e-154b-4f1c-b771-576abc906ee5",
   "metadata": {
    "editable": true,
    "slideshow": {
     "slide_type": ""
    },
    "tags": []
   },
   "outputs": [],
   "source": [
    "best_interpretation_quality = (\n",
    "    (12 < best_higgs_zsmall.mass) & (best_higgs_zsmall.mass < 120) &\n",
    "    (40 < best_higgs_zbig.mass) & (best_higgs_zbig.mass < 120)\n",
    ")"
   ]
  },
  {
   "cell_type": "code",
   "execution_count": null,
   "id": "1b365c51-baa1-40ec-b3a3-c381a40019dd",
   "metadata": {
    "editable": true,
    "slideshow": {
     "slide_type": ""
    },
    "tags": []
   },
   "outputs": [],
   "source": [
    "Hist.new.Regular(100, 0, 200, name=\"Higgs mass\").Double().fill(\n",
    "    ak.flatten((best_higgs_zsmall + best_higgs_zbig).mass[best_interpretation_quality], axis=0)\n",
    ").plot();"
   ]
  }
 ],
 "metadata": {
  "kernelspec": {
   "display_name": "default",
   "language": "python",
   "name": "python3"
  },
  "language_info": {
   "codemirror_mode": {
    "name": "ipython",
    "version": 3
   },
   "file_extension": ".py",
   "mimetype": "text/x-python",
   "name": "python",
   "nbconvert_exporter": "python",
   "pygments_lexer": "ipython3",
   "version": "3.12.11"
  }
 },
 "nbformat": 4,
 "nbformat_minor": 5
}
