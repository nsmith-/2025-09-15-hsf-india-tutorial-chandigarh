{
 "cells": [
  {
   "cell_type": "markdown",
   "id": "7d07e055-c5bc-41ff-86d2-eb81b8903478",
   "metadata": {
    "editable": true,
    "slideshow": {
     "slide_type": ""
    },
    "tags": []
   },
   "source": [
    "# Lesson 3 solutions 1: Taxi path lengths"
   ]
  },
  {
   "cell_type": "code",
   "execution_count": null,
   "id": "2bfb5be3-903f-41c8-8d12-e0ae882cc9c9",
   "metadata": {
    "editable": true,
    "slideshow": {
     "slide_type": ""
    },
    "tags": []
   },
   "outputs": [],
   "source": [
    "import numpy as np\n",
    "import pandas as pd\n",
    "import matplotlib\n",
    "import matplotlib.pyplot as plt\n",
    "import awkward as ak"
   ]
  },
  {
   "cell_type": "markdown",
   "id": "bdfa3e83-8b95-4619-9581-3d391ef39960",
   "metadata": {},
   "source": [
    "## Re-reading the dataset"
   ]
  },
  {
   "cell_type": "markdown",
   "id": "1beb1da4-48eb-44d3-94db-fbec51b31b31",
   "metadata": {},
   "source": [
    "For brevity, let's load the dataset with only the columns we need."
   ]
  },
  {
   "cell_type": "code",
   "execution_count": null,
   "id": "f1e0f0f0-d577-4bc6-80c1-c6eb76491c48",
   "metadata": {
    "editable": true,
    "slideshow": {
     "slide_type": ""
    },
    "tags": []
   },
   "outputs": [],
   "source": [
    "taxi = ak.from_parquet(\n",
    "    \"https://zenodo.org/records/14537442/files/chicago-taxi.parquet\",\n",
    "    columns=[\"trip.km\", \"trip.begin.l*\", \"trip.path.*\"],\n",
    "    row_groups=[0],\n",
    ")\n",
    "taxi"
   ]
  },
  {
   "cell_type": "markdown",
   "id": "cd31413b-881d-4b2b-b1cf-602fc536b3aa",
   "metadata": {},
   "source": [
    "<br><br><br>"
   ]
  },
  {
   "cell_type": "markdown",
   "id": "df337e54-8977-4f02-8e96-d072f29c7b8c",
   "metadata": {},
   "source": [
    "## Longitude, latitude → kilometers"
   ]
  },
  {
   "cell_type": "markdown",
   "id": "b85f9915-d0e3-4342-9434-18b6a2655377",
   "metadata": {},
   "source": [
    "Reproducing the conversion from longitude, latitude differences to absolute positions to kilometers."
   ]
  },
  {
   "cell_type": "code",
   "execution_count": null,
   "id": "e918c695-ed59-439f-ad97-5e5bfbb56701",
   "metadata": {
    "tags": []
   },
   "outputs": [],
   "source": [
    "all_longitudes = taxi.trip.begin.lon + taxi.trip.path.londiff\n",
    "all_latitudes = taxi.trip.begin.lat + taxi.trip.path.latdiff\n",
    "\n",
    "all_longitudes"
   ]
  },
  {
   "cell_type": "code",
   "execution_count": null,
   "id": "ff3bdc7a-f7ed-4f4b-850e-90087e0a78aa",
   "metadata": {
    "tags": []
   },
   "outputs": [],
   "source": [
    "LONGITUDE, LATITUDE = -87.66178320769112, 41.896777262111726   # mean position (center of town)\n",
    "LON_TO_KM, LAT_TO_KM = 82.98452409203695, 111.07127961503745   # lon, lat → km conversion factors"
   ]
  },
  {
   "cell_type": "code",
   "execution_count": null,
   "id": "fb169912-5c89-453c-bfae-9857fb5f26a7",
   "metadata": {
    "tags": []
   },
   "outputs": [],
   "source": [
    "km_east, km_north = (\n",
    "    (all_longitudes - LONGITUDE) * LON_TO_KM,\n",
    "    (all_latitudes - LATITUDE) * LAT_TO_KM,\n",
    ")"
   ]
  },
  {
   "cell_type": "markdown",
   "id": "a4ea0799-f310-49cf-864a-8b385d74ca71",
   "metadata": {},
   "source": [
    "<br><br><br>"
   ]
  },
  {
   "cell_type": "markdown",
   "id": "b166a9b0-fb0a-4023-97a2-45ff85fe21b4",
   "metadata": {},
   "source": [
    "## Single path example for comparison"
   ]
  },
  {
   "cell_type": "markdown",
   "id": "a90b8969-681d-40b4-b38a-c9b39729a864",
   "metadata": {},
   "source": [
    "This imperative `for` loop calculation on a single path was given in the problem statement.\n",
    "\n",
    "I'm repeating it here so that we can compare it with the final answer (always a good idea!)."
   ]
  },
  {
   "cell_type": "code",
   "execution_count": null,
   "id": "5f88cfc8-aa33-44db-886e-9983422f863e",
   "metadata": {
    "tags": []
   },
   "outputs": [],
   "source": [
    "example_east, example_north = (\n",
    "    km_east[75, -2],\n",
    "    km_north[75, -2],\n",
    ")\n",
    "\n",
    "length = 0\n",
    "for i in range(len(example_east) - 1):\n",
    "    Δx = example_east[i + 1] - example_east[i]\n",
    "    Δy = example_north[i + 1] - example_north[i]\n",
    "    Δr = np.sqrt(Δx**2 + Δy**2)\n",
    "    length += Δr\n",
    "\n",
    "length"
   ]
  },
  {
   "cell_type": "markdown",
   "id": "c191d2aa-fcf6-4a77-b66a-2111d1dcc2e4",
   "metadata": {},
   "source": [
    "<br><br><br>"
   ]
  },
  {
   "cell_type": "markdown",
   "id": "5ca98b0f-a5df-4f77-b7f1-c085322330c7",
   "metadata": {
    "editable": true,
    "slideshow": {
     "slide_type": ""
    },
    "tags": []
   },
   "source": [
    "## Solution to exercise 1"
   ]
  },
  {
   "cell_type": "markdown",
   "id": "3571d098-f7cc-4dcb-9c25-98e72d981d93",
   "metadata": {
    "editable": true,
    "slideshow": {
     "slide_type": ""
    },
    "tags": []
   },
   "source": [
    "Here is a one-line calculation of all the distances of all the paths, maintaining path structure."
   ]
  },
  {
   "cell_type": "code",
   "execution_count": null,
   "id": "2f429714-65c3-46fe-8a12-9749ac6079bd",
   "metadata": {
    "tags": []
   },
   "outputs": [],
   "source": [
    "distances = ak.sum(np.sqrt((km_east[:, :, 1:] - km_east[:, :, :-1])**2 + (km_north[:, :, 1:] - km_north[:, :, :-1])**2), axis=-1)"
   ]
  },
  {
   "cell_type": "markdown",
   "id": "42fd1657-3d3e-4661-958c-35394f17fd37",
   "metadata": {},
   "source": [
    "It has the right type: only a single `var` (same as `trips.km`)."
   ]
  },
  {
   "cell_type": "code",
   "execution_count": null,
   "id": "85076bdd-656b-4556-99cd-2760c3401e46",
   "metadata": {
    "tags": []
   },
   "outputs": [],
   "source": [
    "distances.type.show()"
   ]
  },
  {
   "cell_type": "markdown",
   "id": "24667310-6d80-40f5-85de-934f9d4713ea",
   "metadata": {},
   "source": [
    "Here are the values that were provided for comparison, to help you know if you got it right."
   ]
  },
  {
   "cell_type": "code",
   "execution_count": null,
   "id": "95881900-1a0a-423c-bd5a-8440bf9df249",
   "metadata": {
    "tags": []
   },
   "outputs": [],
   "source": [
    "distances"
   ]
  },
  {
   "cell_type": "markdown",
   "id": "4dd2bd59-8882-4ccb-a9a8-73f1673f052b",
   "metadata": {},
   "source": [
    "And here's the one distance that had been calculated with a `for` loop. It agrees."
   ]
  },
  {
   "cell_type": "code",
   "execution_count": null,
   "id": "3da4d7ee-8cee-42d6-958c-6f1b0f3cceda",
   "metadata": {
    "tags": []
   },
   "outputs": [],
   "source": [
    "distances[75, -2]"
   ]
  },
  {
   "cell_type": "markdown",
   "id": "51f8af40-0d5b-401f-b288-145daada5eff",
   "metadata": {},
   "source": [
    "<br><br><br>"
   ]
  },
  {
   "cell_type": "markdown",
   "id": "3d7e4660-4480-4be7-bbbd-164ece6644d2",
   "metadata": {
    "editable": true,
    "slideshow": {
     "slide_type": ""
    },
    "tags": []
   },
   "source": [
    "## Solution to exercise 2"
   ]
  },
  {
   "cell_type": "markdown",
   "id": "39f7c41d-6082-4974-be0f-8d483ae18124",
   "metadata": {
    "editable": true,
    "slideshow": {
     "slide_type": ""
    },
    "tags": []
   },
   "source": [
    "There are two ways we could do this, but let's use the padding method.\n",
    "\n",
    "The answer to\n",
    "\n",
    "> How would you apply this technique to _deeply_ nested lists?\n",
    "\n",
    "for both techniques is to use `axis=-1`."
   ]
  },
  {
   "cell_type": "code",
   "execution_count": null,
   "id": "0ac98ffe-c4e2-4fc8-8961-39756139c4aa",
   "metadata": {
    "tags": []
   },
   "outputs": [],
   "source": [
    "pad_km_east = ak.fill_none(ak.pad_none(km_east, 2, axis=-1), 0, axis=-1)\n",
    "pad_km_north = ak.fill_none(ak.pad_none(km_north, 2, axis=-1), 0, axis=-1)"
   ]
  },
  {
   "cell_type": "markdown",
   "id": "da05473c-5299-404a-86bc-391e32cfd981",
   "metadata": {},
   "source": [
    "The \"as the crow flies\" solution is similar to the main problem, except that there's no [ak.sum](https://awkward-array.org/doc/main/reference/generated/ak.sum.html) over segments. It's a single segment from item `-1` to item `0`."
   ]
  },
  {
   "cell_type": "code",
   "execution_count": null,
   "id": "335b5de4-3482-4b58-b085-008803919902",
   "metadata": {
    "editable": true,
    "slideshow": {
     "slide_type": ""
    },
    "tags": []
   },
   "outputs": [],
   "source": [
    "crow_flies = np.sqrt((pad_km_east[:, :, -1] - pad_km_east[:, :, 0])**2 + (pad_km_north[:, :, -1] - pad_km_north[:, :, 0])**2)\n",
    "crow_flies"
   ]
  },
  {
   "cell_type": "code",
   "execution_count": null,
   "id": "e0a08376-1d01-4316-9391-d3535878b883",
   "metadata": {},
   "outputs": [],
   "source": []
  }
 ],
 "metadata": {
  "kernelspec": {
   "display_name": "default",
   "language": "python",
   "name": "python3"
  },
  "language_info": {
   "codemirror_mode": {
    "name": "ipython",
    "version": 3
   },
   "file_extension": ".py",
   "mimetype": "text/x-python",
   "name": "python",
   "nbconvert_exporter": "python",
   "pygments_lexer": "ipython3",
   "version": "3.12.11"
  }
 },
 "nbformat": 4,
 "nbformat_minor": 5
}
