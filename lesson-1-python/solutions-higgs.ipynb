{
 "cells": [
  {
   "cell_type": "markdown",
   "id": "ea87763f-034c-42f0-8051-096ffb82316c",
   "metadata": {
    "editable": true,
    "slideshow": {
     "slide_type": ""
    },
    "tags": []
   },
   "source": [
    "# Lesson 1 solutions: Finding Higgs decays"
   ]
  },
  {
   "cell_type": "markdown",
   "id": "e589eeda-f974-40a3-a031-084694e9513a",
   "metadata": {
    "editable": true,
    "slideshow": {
     "slide_type": ""
    },
    "tags": []
   },
   "source": [
    "<br><br><br><br><br>"
   ]
  },
  {
   "cell_type": "markdown",
   "id": "d5039e3e-aa19-48cb-af8b-1b27b1ae5454",
   "metadata": {
    "editable": true,
    "slideshow": {
     "slide_type": ""
    },
    "tags": []
   },
   "source": [
    "## Getting data, building objects"
   ]
  },
  {
   "cell_type": "code",
   "execution_count": null,
   "id": "88e6bc5f-a42f-49a6-8a02-659da871d1b7",
   "metadata": {
    "editable": true,
    "slideshow": {
     "slide_type": ""
    },
    "tags": []
   },
   "outputs": [],
   "source": [
    "import json\n",
    "\n",
    "import numpy as np\n",
    "import vector\n",
    "\n",
    "dataset = json.load(open(\"../data/SMHiggsToZZTo4L.json\"))\n",
    "\n",
    "def to_vector(particle):\n",
    "    return vector.obj(\n",
    "        pt=particle[\"pt\"],\n",
    "        eta=particle[\"eta\"],\n",
    "        phi=particle[\"phi\"],\n",
    "        mass=particle[\"mass\"],\n",
    "    )"
   ]
  },
  {
   "cell_type": "code",
   "execution_count": null,
   "id": "f86236e3-374f-4a5c-847a-569878008840",
   "metadata": {},
   "outputs": [],
   "source": [
    "electrons_and_muons = []   # collectively known as \"leptons\"\n",
    "\n",
    "event = dataset[96]   # a nice event with 3 electrons and 3 muons\n",
    "\n",
    "for particle in event[\"electron\"]:\n",
    "    electrons_and_muons.append({\n",
    "        \"type\": \"electron\",\n",
    "        \"charge\": particle[\"charge\"],\n",
    "        \"vector\": to_vector(particle),\n",
    "    })\n",
    "\n",
    "for particle in event[\"muon\"]:\n",
    "    electrons_and_muons.append({\n",
    "        \"type\": \"muon\",\n",
    "        \"charge\": particle[\"charge\"],\n",
    "        \"vector\": to_vector(particle),\n",
    "    })"
   ]
  },
  {
   "cell_type": "code",
   "execution_count": null,
   "id": "e09cefe9-f41a-4fc9-9305-5074ead3a9cb",
   "metadata": {},
   "outputs": [],
   "source": [
    "z_candidates_step0 = []\n",
    "\n",
    "for index_i, particle_i in enumerate(electrons_and_muons):\n",
    "    for index_j, particle_j in enumerate(electrons_and_muons):\n",
    "        if index_i < index_j:\n",
    "            z_candidates_step0.append({\n",
    "                \"index\": [index_i, index_j],\n",
    "                \"types\": [particle_i[\"type\"], particle_j[\"type\"]],\n",
    "                \"charge\": particle_i[\"charge\"] + particle_j[\"charge\"],\n",
    "                \"vector\": particle_i[\"vector\"] + particle_j[\"vector\"],\n",
    "            })"
   ]
  },
  {
   "cell_type": "markdown",
   "id": "5cdb2f2a-d172-49b3-9bd0-847127001661",
   "metadata": {
    "editable": true,
    "slideshow": {
     "slide_type": ""
    },
    "tags": []
   },
   "source": [
    "<br><br><br><br><br>"
   ]
  },
  {
   "cell_type": "markdown",
   "id": "e6b098ae-64c9-4554-a7cf-e7657f3eb46a",
   "metadata": {
    "editable": true,
    "slideshow": {
     "slide_type": ""
    },
    "tags": []
   },
   "source": [
    "## Exercise part 1"
   ]
  },
  {
   "cell_type": "markdown",
   "id": "9b791c60-0fe2-4bf2-a80b-762fd8726d98",
   "metadata": {
    "editable": true,
    "slideshow": {
     "slide_type": ""
    },
    "tags": []
   },
   "source": [
    "Z bosons always decay into particles of opposite charge and identical flavor. Reduce the set of candidates by excluding ones with the wrong properties."
   ]
  },
  {
   "cell_type": "code",
   "execution_count": null,
   "id": "b85644cf-0c94-41a9-b687-33f683ed7d63",
   "metadata": {},
   "outputs": [],
   "source": [
    "z_candidates_step1 = []\n",
    "\n",
    "for candidate in z_candidates_step0:\n",
    "    if candidate[\"charge\"] == 0 and (\n",
    "        candidate[\"types\"] == [\"electron\", \"electron\"]\n",
    "        or candidate[\"types\"] == [\"muon\", \"muon\"]\n",
    "    ):\n",
    "        z_candidates_step1.append(candidate)"
   ]
  },
  {
   "cell_type": "markdown",
   "id": "c3daf522-9fd5-45f1-87f5-2d7ea0f41ece",
   "metadata": {
    "tags": []
   },
   "source": [
    "Print the masses of these Z boson candidates."
   ]
  },
  {
   "cell_type": "code",
   "execution_count": null,
   "id": "391174b1-b791-4537-94f5-48fd3e060a9b",
   "metadata": {},
   "outputs": [],
   "source": [
    "for candidate in z_candidates_step1:\n",
    "    print(candidate[\"types\"], candidate[\"vector\"].mass)"
   ]
  },
  {
   "cell_type": "markdown",
   "id": "45c310dc-86d8-43b3-9bc6-570679217de8",
   "metadata": {
    "editable": true,
    "slideshow": {
     "slide_type": ""
    },
    "tags": []
   },
   "source": [
    "<br><br><br><br><br>"
   ]
  },
  {
   "cell_type": "markdown",
   "id": "022f445a-83d9-4bbe-9f10-eaebd7853d51",
   "metadata": {
    "editable": true,
    "slideshow": {
     "slide_type": ""
    },
    "tags": []
   },
   "source": [
    "## Exercise part 2"
   ]
  },
  {
   "cell_type": "markdown",
   "id": "14e0b413-33a8-4f8c-bd85-e9c431eb1c50",
   "metadata": {
    "editable": true,
    "slideshow": {
     "slide_type": ""
    },
    "tags": []
   },
   "source": [
    "The Higgs boson decays into two Z bosons. The only constraint here is that a lepton from one Z decay can't also be a lepton from the other Z decay."
   ]
  },
  {
   "cell_type": "code",
   "execution_count": null,
   "id": "eb597ac0-5b46-4a46-824c-e76a28c640ba",
   "metadata": {},
   "outputs": [],
   "source": [
    "higgs_candidates_step1 = []\n",
    "\n",
    "for z_index1, z_candidate1 in enumerate(z_candidates_step1):\n",
    "    for z_index2, z_candidate2 in enumerate(z_candidates_step1):\n",
    "        if z_index1 < z_index2:\n",
    "            lepton_i1, lepton_j1 = z_candidate1[\"index\"]\n",
    "            lepton_i2, lepton_j2 = z_candidate2[\"index\"]\n",
    "            if (\n",
    "                (lepton_i1 != lepton_i2 and lepton_i1 != lepton_j2)\n",
    "                and (lepton_j1 != lepton_i2 and lepton_j1 != lepton_j2)\n",
    "            ):\n",
    "                higgs_candidates_step1.append({\n",
    "                    \"z_candidates\": [z_candidate1, z_candidate2],\n",
    "                    \"vector\": z_candidate1[\"vector\"] + z_candidate2[\"vector\"],\n",
    "                })"
   ]
  },
  {
   "cell_type": "markdown",
   "id": "87cfc150-602e-45bd-81bb-066c74691b8d",
   "metadata": {},
   "source": [
    "You could have also used\n",
    "\n",
    "```python\n",
    "if lepton_i1 not in (lepton_i2, lepton_j2) and lepton_j1 not in (lepton_i2, lepton_j2):\n",
    "```\n",
    "\n",
    "or several other, equivalent variants."
   ]
  },
  {
   "cell_type": "markdown",
   "id": "cd4eb22e-ba30-4178-a57e-d698b54f0cc2",
   "metadata": {},
   "source": [
    "Print out the lepton indexes and candidate Higgs masses."
   ]
  },
  {
   "cell_type": "code",
   "execution_count": null,
   "id": "2183b1fb-9618-46db-9af9-012b9d2c7d18",
   "metadata": {},
   "outputs": [],
   "source": [
    "for higgs_candidate in higgs_candidates_step1:\n",
    "    z_candidate1, z_candidate2 = higgs_candidate[\"z_candidates\"]\n",
    "    lepton_index1, lepton_index2 = z_candidate1[\"index\"]\n",
    "    lepton_index3, lepton_index4 = z_candidate2[\"index\"]\n",
    "    print(\n",
    "        lepton_index1,\n",
    "        lepton_index2,\n",
    "        lepton_index3,\n",
    "        lepton_index4,\n",
    "        higgs_candidate[\"vector\"].mass,\n",
    "    )"
   ]
  },
  {
   "cell_type": "markdown",
   "id": "d11676a8-3e48-449f-bd69-59ea80c428e3",
   "metadata": {
    "tags": []
   },
   "source": [
    "Even though each candidate avoids double-counting within itself, the same combination of four indexes may be found among the candidates. We want only one of each.\n",
    "\n",
    "(note: event 96 does not have this property, but you can see it by pretending the muons are electrons)\n",
    "\n",
    "Let's collect these Higgs candidates by unique sets of indexes. The `sorted` function sorts a list, and `tuple` makes it possible to use them as keys in a dict."
   ]
  },
  {
   "cell_type": "code",
   "execution_count": null,
   "id": "9d989fd1-b13e-42c6-96b3-493862a8aa85",
   "metadata": {},
   "outputs": [],
   "source": [
    "higgs_candidates_step2 = {}\n",
    "\n",
    "for higgs_candidate in higgs_candidates_step1:\n",
    "    z_candidate1, z_candidate2 = higgs_candidate[\"z_candidates\"]\n",
    "    lepton_index1, lepton_index2 = z_candidate1[\"index\"]\n",
    "    lepton_index3, lepton_index4 = z_candidate2[\"index\"]\n",
    "\n",
    "    combination = tuple(sorted([\n",
    "        lepton_index1, lepton_index2, lepton_index3, lepton_index4\n",
    "    ]))\n",
    "\n",
    "    if combination not in higgs_candidates_step2:\n",
    "        higgs_candidates_step2[combination] = []\n",
    "\n",
    "    higgs_candidates_step2[combination].append(higgs_candidate)"
   ]
  },
  {
   "cell_type": "markdown",
   "id": "a9822ab6-2f70-4126-bc6e-3e1d4ac9531a",
   "metadata": {
    "tags": []
   },
   "source": [
    "This `higgs_candidates_step2` has deep structure:\n",
    "\n",
    "  * Keys are sets combinations of lepton indexes, without regard for their original order.\n",
    "  * Values are a list of decay trees.\n",
    "    - Each element of that list has a candidate Higgs mass and two candidate Z masses."
   ]
  },
  {
   "cell_type": "code",
   "execution_count": null,
   "id": "b39a23cf-2441-4d51-9377-118239d96ba7",
   "metadata": {},
   "outputs": [],
   "source": [
    "for combination in higgs_candidates_step2:\n",
    "    print(combination)\n",
    "    for higgs_candidate in higgs_candidates_step2[combination]:\n",
    "        z_candidate1, z_candidate2 = higgs_candidate[\"z_candidates\"]\n",
    "        print(\n",
    "            \"    Higgs:\",\n",
    "            higgs_candidate[\"vector\"].mass,\n",
    "            \"Z:\",\n",
    "            z_candidate1[\"vector\"].mass,\n",
    "            z_candidate2[\"vector\"].mass,\n",
    "        )"
   ]
  },
  {
   "cell_type": "markdown",
   "id": "87829227-a842-47bc-ad2f-dadd5152645a",
   "metadata": {
    "editable": true,
    "slideshow": {
     "slide_type": ""
    },
    "tags": []
   },
   "source": [
    "<br><br><br><br><br>"
   ]
  },
  {
   "cell_type": "markdown",
   "id": "841ebf68-6ba7-4581-afd4-36756fce4ac7",
   "metadata": {
    "editable": true,
    "slideshow": {
     "slide_type": ""
    },
    "tags": []
   },
   "source": [
    "## Exercise part 3"
   ]
  },
  {
   "cell_type": "markdown",
   "id": "3aae201c-307a-4635-868b-920082eb9dc6",
   "metadata": {
    "editable": true,
    "slideshow": {
     "slide_type": ""
    },
    "tags": []
   },
   "source": [
    "One of the selections that the 2012 Higgs discovery analysis applied was:\n",
    "\n",
    "  * 12 GeV/$c^2$ < smallest Z mass < 120 GeV/$c^2$\n",
    "  * 40 GeV/$c^2$ < largest Z mass < 120 GeV/$c^2$\n",
    "\n",
    "because this is expected of real Higgs decays.\n",
    "\n",
    "Apply the Z mass constraint to these Higgs candidates."
   ]
  },
  {
   "cell_type": "code",
   "execution_count": null,
   "id": "cbb207d8-1ac9-4046-9c5e-ba7bfa787562",
   "metadata": {},
   "outputs": [],
   "source": [
    "higgs_candidates_step3 = {}\n",
    "\n",
    "for combination in higgs_candidates_step2:\n",
    "    higgs_candidates_step3[combination] = []\n",
    "\n",
    "    for higgs_candidate in higgs_candidates_step2[combination]:\n",
    "        z_candidate1, z_candidate2 = higgs_candidate[\"z_candidates\"]\n",
    "        if z_candidate1[\"vector\"].mass < z_candidate2[\"vector\"].mass:\n",
    "            smallest_z_mass = z_candidate1[\"vector\"].mass\n",
    "            largest_z_mass = z_candidate2[\"vector\"].mass\n",
    "        else:\n",
    "            largest_z_mass = z_candidate1[\"vector\"].mass\n",
    "            smallest_z_mass = z_candidate2[\"vector\"].mass\n",
    "\n",
    "        if 12 < smallest_z_mass < 120 and 40 < largest_z_mass < 120:\n",
    "            higgs_candidates_step3[combination].append(higgs_candidate)"
   ]
  },
  {
   "cell_type": "markdown",
   "id": "1b8d135d-2861-4fe5-8abc-d4eeec2c9bb8",
   "metadata": {},
   "source": [
    "You could have used\n",
    "\n",
    "```python\n",
    "smallest_z_mass, largest_z_mass = sorted([z_candidate1[\"vector\"].mass, z_candidate2[\"vector\"].mass])\n",
    "```\n",
    "\n",
    "or several other, equivalent, variants."
   ]
  },
  {
   "cell_type": "markdown",
   "id": "95263ac9-7d03-4f2d-af18-0b06374a82c3",
   "metadata": {
    "tags": []
   },
   "source": [
    "In the end,"
   ]
  },
  {
   "cell_type": "code",
   "execution_count": null,
   "id": "03d834a2-3196-4644-925d-3bdab3fc9cd0",
   "metadata": {},
   "outputs": [],
   "source": [
    "for combination in higgs_candidates_step3:\n",
    "    print(combination)\n",
    "    for higgs_candidate in higgs_candidates_step3[combination]:\n",
    "        z_candidate1, z_candidate2 = higgs_candidate[\"z_candidates\"]\n",
    "        print(\n",
    "            \"    Higgs:\",\n",
    "            higgs_candidate[\"vector\"].mass,\n",
    "            \"Z:\",\n",
    "            z_candidate1[\"vector\"].mass,\n",
    "            z_candidate2[\"vector\"].mass,\n",
    "        )"
   ]
  },
  {
   "cell_type": "markdown",
   "id": "8605069a-2a46-472c-8610-ce2df7789cf7",
   "metadata": {},
   "source": [
    "Only one of the combinations has a satisfactory Higgs candidate.\n",
    "\n",
    "Its mass is about right, too (125 GeV)."
   ]
  }
 ],
 "metadata": {
  "kernelspec": {
   "display_name": "default",
   "language": "python",
   "name": "python3"
  },
  "language_info": {
   "codemirror_mode": {
    "name": "ipython",
    "version": 3
   },
   "file_extension": ".py",
   "mimetype": "text/x-python",
   "name": "python",
   "nbconvert_exporter": "python",
   "pygments_lexer": "ipython3",
   "version": "3.12.11"
  }
 },
 "nbformat": 4,
 "nbformat_minor": 5
}
